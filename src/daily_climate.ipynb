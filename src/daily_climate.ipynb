{
 "nbformat": 4,
 "nbformat_minor": 0,
 "metadata": {
  "colab": {
   "name": "daily-climate.ipynb",
   "provenance": [],
   "collapsed_sections": []
  },
  "kernelspec": {
   "name": "python3",
   "display_name": "Python 3"
  },
  "language_info": {
   "name": "python"
  }
 },
 "cells": [
  {
   "cell_type": "code",
   "source": [
    "!pip install pmdarima\n",
    "!pip install prophet"
   ],
   "metadata": {
    "id": "HkDV12VGqjXB",
    "colab": {
     "base_uri": "https://localhost:8080/"
    },
    "outputId": "ef8d443d-e266-481e-f0c3-c03653cc9a49",
    "pycharm": {
     "name": "#%%\n"
    }
   },
   "execution_count": 3,
   "outputs": [
    {
     "name": "stdout",
     "output_type": "stream",
     "text": [
      "Requirement already satisfied: pmdarima in /Users/josualonso/miniforge3/envs/tensorflow-m1/lib/python3.9/site-packages (1.8.5)\r\n",
      "Requirement already satisfied: joblib>=0.11 in /Users/josualonso/miniforge3/envs/tensorflow-m1/lib/python3.9/site-packages (from pmdarima) (1.1.0)\r\n",
      "Requirement already satisfied: Cython!=0.29.18,>=0.29 in /Users/josualonso/miniforge3/envs/tensorflow-m1/lib/python3.9/site-packages (from pmdarima) (0.29.30)\r\n",
      "Requirement already satisfied: numpy>=1.19.3 in /Users/josualonso/miniforge3/envs/tensorflow-m1/lib/python3.9/site-packages (from pmdarima) (1.22.4)\r\n",
      "Requirement already satisfied: pandas>=0.19 in /Users/josualonso/miniforge3/envs/tensorflow-m1/lib/python3.9/site-packages (from pmdarima) (1.3.5)\r\n",
      "Requirement already satisfied: scikit-learn>=0.22 in /Users/josualonso/miniforge3/envs/tensorflow-m1/lib/python3.9/site-packages (from pmdarima) (1.0.2)\r\n",
      "Requirement already satisfied: scipy>=1.3.2 in /Users/josualonso/miniforge3/envs/tensorflow-m1/lib/python3.9/site-packages (from pmdarima) (1.7.3)\r\n",
      "Requirement already satisfied: statsmodels!=0.12.0,>=0.11 in /Users/josualonso/miniforge3/envs/tensorflow-m1/lib/python3.9/site-packages (from pmdarima) (0.13.1)\r\n",
      "Requirement already satisfied: urllib3 in /Users/josualonso/miniforge3/envs/tensorflow-m1/lib/python3.9/site-packages (from pmdarima) (1.26.8)\r\n",
      "Requirement already satisfied: setuptools!=50.0.0,>=38.6.0 in /Users/josualonso/miniforge3/envs/tensorflow-m1/lib/python3.9/site-packages (from pmdarima) (58.0.4)\r\n",
      "Requirement already satisfied: python-dateutil>=2.7.3 in /Users/josualonso/miniforge3/envs/tensorflow-m1/lib/python3.9/site-packages (from pandas>=0.19->pmdarima) (2.8.2)\r\n",
      "Requirement already satisfied: pytz>=2017.3 in /Users/josualonso/miniforge3/envs/tensorflow-m1/lib/python3.9/site-packages (from pandas>=0.19->pmdarima) (2021.3)\r\n",
      "Requirement already satisfied: six>=1.5 in /Users/josualonso/miniforge3/envs/tensorflow-m1/lib/python3.9/site-packages (from python-dateutil>=2.7.3->pandas>=0.19->pmdarima) (1.15.0)\r\n",
      "Requirement already satisfied: threadpoolctl>=2.0.0 in /Users/josualonso/miniforge3/envs/tensorflow-m1/lib/python3.9/site-packages (from scikit-learn>=0.22->pmdarima) (3.0.0)\r\n",
      "Requirement already satisfied: patsy>=0.5.2 in /Users/josualonso/miniforge3/envs/tensorflow-m1/lib/python3.9/site-packages (from statsmodels!=0.12.0,>=0.11->pmdarima) (0.5.2)\r\n",
      "Requirement already satisfied: prophet in /Users/josualonso/miniforge3/envs/tensorflow-m1/lib/python3.9/site-packages (1.1)\r\n",
      "Requirement already satisfied: holidays>=0.13 in /Users/josualonso/miniforge3/envs/tensorflow-m1/lib/python3.9/site-packages (from prophet) (0.14.2)\r\n",
      "Requirement already satisfied: Cython>=0.22 in /Users/josualonso/miniforge3/envs/tensorflow-m1/lib/python3.9/site-packages (from prophet) (0.29.30)\r\n",
      "Requirement already satisfied: cmdstanpy>=1.0.1 in /Users/josualonso/miniforge3/envs/tensorflow-m1/lib/python3.9/site-packages (from prophet) (1.0.4)\r\n",
      "Requirement already satisfied: LunarCalendar>=0.0.9 in /Users/josualonso/miniforge3/envs/tensorflow-m1/lib/python3.9/site-packages (from prophet) (0.0.9)\r\n",
      "Requirement already satisfied: python-dateutil>=2.8.0 in /Users/josualonso/miniforge3/envs/tensorflow-m1/lib/python3.9/site-packages (from prophet) (2.8.2)\r\n",
      "Requirement already satisfied: tqdm>=4.36.1 in /Users/josualonso/miniforge3/envs/tensorflow-m1/lib/python3.9/site-packages (from prophet) (4.62.3)\r\n",
      "Requirement already satisfied: numpy>=1.15.4 in /Users/josualonso/miniforge3/envs/tensorflow-m1/lib/python3.9/site-packages (from prophet) (1.22.4)\r\n",
      "Requirement already satisfied: wheel>=0.37.0 in /Users/josualonso/miniforge3/envs/tensorflow-m1/lib/python3.9/site-packages (from prophet) (0.37.1)\r\n",
      "Requirement already satisfied: pandas>=1.0.4 in /Users/josualonso/miniforge3/envs/tensorflow-m1/lib/python3.9/site-packages (from prophet) (1.3.5)\r\n",
      "Requirement already satisfied: matplotlib>=2.0.0 in /Users/josualonso/miniforge3/envs/tensorflow-m1/lib/python3.9/site-packages (from prophet) (3.5.1)\r\n",
      "Requirement already satisfied: setuptools>=42 in /Users/josualonso/miniforge3/envs/tensorflow-m1/lib/python3.9/site-packages (from prophet) (58.0.4)\r\n",
      "Requirement already satisfied: setuptools-git>=1.2 in /Users/josualonso/miniforge3/envs/tensorflow-m1/lib/python3.9/site-packages (from prophet) (1.2)\r\n",
      "Requirement already satisfied: convertdate>=2.1.2 in /Users/josualonso/miniforge3/envs/tensorflow-m1/lib/python3.9/site-packages (from prophet) (2.4.0)\r\n",
      "Requirement already satisfied: ujson in /Users/josualonso/miniforge3/envs/tensorflow-m1/lib/python3.9/site-packages (from cmdstanpy>=1.0.1->prophet) (5.4.0)\r\n",
      "Requirement already satisfied: pymeeus<=1,>=0.3.13 in /Users/josualonso/miniforge3/envs/tensorflow-m1/lib/python3.9/site-packages (from convertdate>=2.1.2->prophet) (0.5.11)\r\n",
      "Requirement already satisfied: hijri-converter in /Users/josualonso/miniforge3/envs/tensorflow-m1/lib/python3.9/site-packages (from holidays>=0.13->prophet) (2.2.4)\r\n",
      "Requirement already satisfied: korean-lunar-calendar in /Users/josualonso/miniforge3/envs/tensorflow-m1/lib/python3.9/site-packages (from holidays>=0.13->prophet) (0.2.1)\r\n",
      "Requirement already satisfied: ephem>=3.7.5.3 in /Users/josualonso/miniforge3/envs/tensorflow-m1/lib/python3.9/site-packages (from LunarCalendar>=0.0.9->prophet) (4.1.3)\r\n",
      "Requirement already satisfied: pytz in /Users/josualonso/miniforge3/envs/tensorflow-m1/lib/python3.9/site-packages (from LunarCalendar>=0.0.9->prophet) (2021.3)\r\n",
      "Requirement already satisfied: pyparsing>=2.2.1 in /Users/josualonso/miniforge3/envs/tensorflow-m1/lib/python3.9/site-packages (from matplotlib>=2.0.0->prophet) (3.0.6)\r\n",
      "Requirement already satisfied: pillow>=6.2.0 in /Users/josualonso/miniforge3/envs/tensorflow-m1/lib/python3.9/site-packages (from matplotlib>=2.0.0->prophet) (8.3.1)\r\n",
      "Requirement already satisfied: packaging>=20.0 in /Users/josualonso/miniforge3/envs/tensorflow-m1/lib/python3.9/site-packages (from matplotlib>=2.0.0->prophet) (21.3)\r\n",
      "Requirement already satisfied: fonttools>=4.22.0 in /Users/josualonso/miniforge3/envs/tensorflow-m1/lib/python3.9/site-packages (from matplotlib>=2.0.0->prophet) (4.28.5)\r\n",
      "Requirement already satisfied: cycler>=0.10 in /Users/josualonso/miniforge3/envs/tensorflow-m1/lib/python3.9/site-packages (from matplotlib>=2.0.0->prophet) (0.11.0)\r\n",
      "Requirement already satisfied: kiwisolver>=1.0.1 in /Users/josualonso/miniforge3/envs/tensorflow-m1/lib/python3.9/site-packages (from matplotlib>=2.0.0->prophet) (1.3.2)\r\n",
      "Requirement already satisfied: six>=1.5 in /Users/josualonso/miniforge3/envs/tensorflow-m1/lib/python3.9/site-packages (from python-dateutil>=2.8.0->prophet) (1.15.0)\r\n"
     ]
    }
   ]
  },
  {
   "cell_type": "code",
   "execution_count": 4,
   "metadata": {
    "id": "6RSiRmKApbRt",
    "pycharm": {
     "name": "#%%\n"
    }
   },
   "outputs": [
    {
     "ename": "ValueError",
     "evalue": "numpy.ndarray size changed, may indicate binary incompatibility. Expected 96 from C header, got 80 from PyObject",
     "output_type": "error",
     "traceback": [
      "\u001B[0;31m---------------------------------------------------------------------------\u001B[0m",
      "\u001B[0;31mValueError\u001B[0m                                Traceback (most recent call last)",
      "\u001B[0;32m/var/folders/fn/3dgq4t3s1690y62sbz564yx00000gn/T/ipykernel_95038/955109058.py\u001B[0m in \u001B[0;36m<module>\u001B[0;34m\u001B[0m\n\u001B[1;32m      9\u001B[0m \u001B[0;32mfrom\u001B[0m \u001B[0msklearn\u001B[0m\u001B[0;34m.\u001B[0m\u001B[0mmetrics\u001B[0m \u001B[0;32mimport\u001B[0m \u001B[0mmean_absolute_error\u001B[0m\u001B[0;34m,\u001B[0m \u001B[0mmean_squared_error\u001B[0m\u001B[0;34m\u001B[0m\u001B[0;34m\u001B[0m\u001B[0m\n\u001B[1;32m     10\u001B[0m \u001B[0;34m\u001B[0m\u001B[0m\n\u001B[0;32m---> 11\u001B[0;31m \u001B[0;32mimport\u001B[0m \u001B[0mpmdarima\u001B[0m\u001B[0;34m\u001B[0m\u001B[0;34m\u001B[0m\u001B[0m\n\u001B[0m\u001B[1;32m     12\u001B[0m \u001B[0;32mfrom\u001B[0m \u001B[0mpmdarima\u001B[0m\u001B[0;34m.\u001B[0m\u001B[0mutils\u001B[0m \u001B[0;32mimport\u001B[0m \u001B[0mplot_acf\u001B[0m\u001B[0;34m,\u001B[0m \u001B[0mplot_pacf\u001B[0m\u001B[0;34m\u001B[0m\u001B[0;34m\u001B[0m\u001B[0m\n\u001B[1;32m     13\u001B[0m \u001B[0;32mfrom\u001B[0m \u001B[0mpmdarima\u001B[0m\u001B[0;34m.\u001B[0m\u001B[0mpreprocessing\u001B[0m \u001B[0;32mimport\u001B[0m \u001B[0mBoxCoxEndogTransformer\u001B[0m\u001B[0;34m\u001B[0m\u001B[0;34m\u001B[0m\u001B[0m\n",
      "\u001B[0;32m~/miniforge3/envs/tensorflow-m1/lib/python3.9/site-packages/pmdarima/__init__.py\u001B[0m in \u001B[0;36m<module>\u001B[0;34m\u001B[0m\n\u001B[1;32m     50\u001B[0m \u001B[0;34m\u001B[0m\u001B[0m\n\u001B[1;32m     51\u001B[0m     \u001B[0;31m# Stuff we want at top-level\u001B[0m\u001B[0;34m\u001B[0m\u001B[0;34m\u001B[0m\u001B[0;34m\u001B[0m\u001B[0m\n\u001B[0;32m---> 52\u001B[0;31m     \u001B[0;32mfrom\u001B[0m \u001B[0;34m.\u001B[0m\u001B[0marima\u001B[0m \u001B[0;32mimport\u001B[0m \u001B[0mauto_arima\u001B[0m\u001B[0;34m,\u001B[0m \u001B[0mARIMA\u001B[0m\u001B[0;34m,\u001B[0m \u001B[0mAutoARIMA\u001B[0m\u001B[0;34m,\u001B[0m \u001B[0mStepwiseContext\u001B[0m\u001B[0;34m,\u001B[0m \u001B[0mdecompose\u001B[0m\u001B[0;34m\u001B[0m\u001B[0;34m\u001B[0m\u001B[0m\n\u001B[0m\u001B[1;32m     53\u001B[0m     \u001B[0;32mfrom\u001B[0m \u001B[0;34m.\u001B[0m\u001B[0mutils\u001B[0m \u001B[0;32mimport\u001B[0m \u001B[0macf\u001B[0m\u001B[0;34m,\u001B[0m \u001B[0mautocorr_plot\u001B[0m\u001B[0;34m,\u001B[0m \u001B[0mc\u001B[0m\u001B[0;34m,\u001B[0m \u001B[0mpacf\u001B[0m\u001B[0;34m,\u001B[0m \u001B[0mplot_acf\u001B[0m\u001B[0;34m,\u001B[0m \u001B[0mplot_pacf\u001B[0m\u001B[0;34m,\u001B[0m\u001B[0;31m \u001B[0m\u001B[0;31m\\\u001B[0m\u001B[0;34m\u001B[0m\u001B[0;34m\u001B[0m\u001B[0m\n\u001B[1;32m     54\u001B[0m         \u001B[0mtsdisplay\u001B[0m\u001B[0;34m\u001B[0m\u001B[0;34m\u001B[0m\u001B[0m\n",
      "\u001B[0;32m~/miniforge3/envs/tensorflow-m1/lib/python3.9/site-packages/pmdarima/arima/__init__.py\u001B[0m in \u001B[0;36m<module>\u001B[0;34m\u001B[0m\n\u001B[1;32m      3\u001B[0m \u001B[0;31m# Author: Taylor Smith <taylor.smith@alkaline-ml.com>\u001B[0m\u001B[0;34m\u001B[0m\u001B[0;34m\u001B[0m\u001B[0;34m\u001B[0m\u001B[0m\n\u001B[1;32m      4\u001B[0m \u001B[0;34m\u001B[0m\u001B[0m\n\u001B[0;32m----> 5\u001B[0;31m \u001B[0;32mfrom\u001B[0m \u001B[0;34m.\u001B[0m\u001B[0mapprox\u001B[0m \u001B[0;32mimport\u001B[0m \u001B[0;34m*\u001B[0m\u001B[0;34m\u001B[0m\u001B[0;34m\u001B[0m\u001B[0m\n\u001B[0m\u001B[1;32m      6\u001B[0m \u001B[0;32mfrom\u001B[0m \u001B[0;34m.\u001B[0m\u001B[0marima\u001B[0m \u001B[0;32mimport\u001B[0m \u001B[0;34m*\u001B[0m\u001B[0;34m\u001B[0m\u001B[0;34m\u001B[0m\u001B[0m\n\u001B[1;32m      7\u001B[0m \u001B[0;32mfrom\u001B[0m \u001B[0;34m.\u001B[0m\u001B[0mauto\u001B[0m \u001B[0;32mimport\u001B[0m \u001B[0;34m*\u001B[0m\u001B[0;34m\u001B[0m\u001B[0;34m\u001B[0m\u001B[0m\n",
      "\u001B[0;32m~/miniforge3/envs/tensorflow-m1/lib/python3.9/site-packages/pmdarima/arima/approx.py\u001B[0m in \u001B[0;36m<module>\u001B[0;34m\u001B[0m\n\u001B[1;32m      7\u001B[0m \u001B[0;32mimport\u001B[0m \u001B[0mnumpy\u001B[0m \u001B[0;32mas\u001B[0m \u001B[0mnp\u001B[0m\u001B[0;34m\u001B[0m\u001B[0;34m\u001B[0m\u001B[0m\n\u001B[1;32m      8\u001B[0m \u001B[0;34m\u001B[0m\u001B[0m\n\u001B[0;32m----> 9\u001B[0;31m \u001B[0;32mfrom\u001B[0m \u001B[0;34m.\u001B[0m\u001B[0;34m.\u001B[0m\u001B[0mutils\u001B[0m\u001B[0;34m.\u001B[0m\u001B[0marray\u001B[0m \u001B[0;32mimport\u001B[0m \u001B[0mc\u001B[0m\u001B[0;34m,\u001B[0m \u001B[0mcheck_endog\u001B[0m\u001B[0;34m\u001B[0m\u001B[0;34m\u001B[0m\u001B[0m\n\u001B[0m\u001B[1;32m     10\u001B[0m \u001B[0;32mfrom\u001B[0m \u001B[0;34m.\u001B[0m\u001B[0;34m.\u001B[0m\u001B[0mutils\u001B[0m \u001B[0;32mimport\u001B[0m \u001B[0mget_callable\u001B[0m\u001B[0;34m\u001B[0m\u001B[0;34m\u001B[0m\u001B[0m\n\u001B[1;32m     11\u001B[0m \u001B[0;32mfrom\u001B[0m \u001B[0;34m.\u001B[0m\u001B[0;34m.\u001B[0m\u001B[0mcompat\u001B[0m\u001B[0;34m.\u001B[0m\u001B[0mnumpy\u001B[0m \u001B[0;32mimport\u001B[0m \u001B[0mDTYPE\u001B[0m\u001B[0;34m\u001B[0m\u001B[0;34m\u001B[0m\u001B[0m\n",
      "\u001B[0;32m~/miniforge3/envs/tensorflow-m1/lib/python3.9/site-packages/pmdarima/utils/__init__.py\u001B[0m in \u001B[0;36m<module>\u001B[0;34m\u001B[0m\n\u001B[1;32m      3\u001B[0m \u001B[0;31m# Author: Taylor Smith <taylor.smith@alkaline-ml.com>\u001B[0m\u001B[0;34m\u001B[0m\u001B[0;34m\u001B[0m\u001B[0;34m\u001B[0m\u001B[0m\n\u001B[1;32m      4\u001B[0m \u001B[0;34m\u001B[0m\u001B[0m\n\u001B[0;32m----> 5\u001B[0;31m \u001B[0;32mfrom\u001B[0m \u001B[0;34m.\u001B[0m\u001B[0marray\u001B[0m \u001B[0;32mimport\u001B[0m \u001B[0;34m*\u001B[0m\u001B[0;34m\u001B[0m\u001B[0;34m\u001B[0m\u001B[0m\n\u001B[0m\u001B[1;32m      6\u001B[0m \u001B[0;32mfrom\u001B[0m \u001B[0;34m.\u001B[0m\u001B[0mmetaestimators\u001B[0m \u001B[0;32mimport\u001B[0m \u001B[0;34m*\u001B[0m\u001B[0;34m\u001B[0m\u001B[0;34m\u001B[0m\u001B[0m\n\u001B[1;32m      7\u001B[0m \u001B[0;32mfrom\u001B[0m \u001B[0;34m.\u001B[0m\u001B[0mvisualization\u001B[0m \u001B[0;32mimport\u001B[0m \u001B[0;34m*\u001B[0m\u001B[0;34m\u001B[0m\u001B[0;34m\u001B[0m\u001B[0m\n",
      "\u001B[0;32m~/miniforge3/envs/tensorflow-m1/lib/python3.9/site-packages/pmdarima/utils/array.py\u001B[0m in \u001B[0;36m<module>\u001B[0;34m\u001B[0m\n\u001B[1;32m     11\u001B[0m \u001B[0;34m\u001B[0m\u001B[0m\n\u001B[1;32m     12\u001B[0m \u001B[0;32mfrom\u001B[0m \u001B[0;34m.\u001B[0m\u001B[0;34m.\u001B[0m\u001B[0mcompat\u001B[0m \u001B[0;32mimport\u001B[0m \u001B[0mDTYPE\u001B[0m\u001B[0;34m\u001B[0m\u001B[0;34m\u001B[0m\u001B[0m\n\u001B[0;32m---> 13\u001B[0;31m \u001B[0;32mfrom\u001B[0m \u001B[0;34m.\u001B[0m\u001B[0m_array\u001B[0m \u001B[0;32mimport\u001B[0m \u001B[0mC_intgrt_vec\u001B[0m\u001B[0;34m\u001B[0m\u001B[0;34m\u001B[0m\u001B[0m\n\u001B[0m\u001B[1;32m     14\u001B[0m \u001B[0;34m\u001B[0m\u001B[0m\n\u001B[1;32m     15\u001B[0m __all__ = [\n",
      "\u001B[0;32mpmdarima/utils/_array.pyx\u001B[0m in \u001B[0;36minit pmdarima.utils._array\u001B[0;34m()\u001B[0m\n",
      "\u001B[0;31mValueError\u001B[0m: numpy.ndarray size changed, may indicate binary incompatibility. Expected 96 from C header, got 80 from PyObject"
     ]
    }
   ],
   "source": [
    "import numpy as np\n",
    "import pandas as pd\n",
    "\n",
    "import matplotlib.pyplot as plt\n",
    "import seaborn as sns\n",
    "\n",
    "from sklearn.linear_model import LinearRegression\n",
    "from sklearn.preprocessing import PolynomialFeatures\n",
    "from sklearn.metrics import mean_absolute_error, mean_squared_error\n",
    "\n",
    "import pmdarima\n",
    "from pmdarima.utils import plot_acf, plot_pacf\n",
    "from pmdarima.preprocessing import BoxCoxEndogTransformer\n",
    "from pmdarima.arima import auto_arima, ADFTest\n",
    "from pmdarima.metrics import smape\n",
    "\n",
    "from statsmodels.tsa.seasonal import seasonal_decompose\n",
    "from statsmodels.tsa.holtwinters import ExponentialSmoothing\n",
    "\n",
    "import lightgbm\n",
    "\n",
    "import prophet\n",
    "\n",
    "import tensorflow as tf\n",
    "import tensorflow.keras as keras\n",
    "\n",
    "from pylab import rcParams\n",
    "rcParams['figure.figsize'] = (12, 6)\n",
    "rcParams['xtick.labelsize'] = 12\n",
    "rcParams['ytick.labelsize'] = 12\n",
    "rcParams['axes.labelsize'] = 12"
   ]
  },
  {
   "cell_type": "code",
   "source": [
    "train_df = pd.read_csv('DailyDelhiClimateTrain.csv')"
   ],
   "metadata": {
    "id": "xcdL3pOEqrOZ",
    "pycharm": {
     "name": "#%%\n"
    }
   },
   "execution_count": null,
   "outputs": []
  },
  {
   "cell_type": "code",
   "source": [
    "train_df.info()"
   ],
   "metadata": {
    "colab": {
     "base_uri": "https://localhost:8080/"
    },
    "id": "tCrFP-mhs_PZ",
    "outputId": "251eae53-58ed-42dc-97e8-6c84ad4f1557",
    "pycharm": {
     "name": "#%%\n"
    }
   },
   "execution_count": null,
   "outputs": []
  },
  {
   "cell_type": "code",
   "source": [
    "train_df.describe()"
   ],
   "metadata": {
    "colab": {
     "base_uri": "https://localhost:8080/",
     "height": 297
    },
    "id": "-S2WjoYTtn_Z",
    "outputId": "2af86442-64a7-431d-d30a-e783ad50cb15",
    "pycharm": {
     "name": "#%%\n"
    }
   },
   "execution_count": null,
   "outputs": []
  },
  {
   "cell_type": "code",
   "source": [
    "print(f\"Min date: {train_df.date.min()}\\nMax date: {train_df.date.max()}\") "
   ],
   "metadata": {
    "colab": {
     "base_uri": "https://localhost:8080/"
    },
    "id": "2u2TS2VCymgQ",
    "outputId": "e3390866-6d9f-4c2c-b9c4-09dbe2317e94",
    "pycharm": {
     "name": "#%%\n"
    }
   },
   "execution_count": null,
   "outputs": []
  },
  {
   "cell_type": "code",
   "source": [
    "train_df.index = pd.DatetimeIndex(pd.to_datetime(train_df['date']), freq='D')\n",
    "train_df.drop('date', axis=1, inplace=True)"
   ],
   "metadata": {
    "id": "q4LYkZhm87ED",
    "pycharm": {
     "name": "#%%\n"
    }
   },
   "execution_count": null,
   "outputs": []
  },
  {
   "cell_type": "code",
   "source": [
    "train_df.head()"
   ],
   "metadata": {
    "colab": {
     "base_uri": "https://localhost:8080/",
     "height": 235
    },
    "id": "Cjqs2eEM9p2E",
    "outputId": "057a3636-ee99-4e08-e294-e5a444352850",
    "pycharm": {
     "name": "#%%\n"
    }
   },
   "execution_count": null,
   "outputs": []
  },
  {
   "cell_type": "markdown",
   "source": [
    "## Checking the data distributions of the independent features"
   ],
   "metadata": {
    "id": "w-4-6VlBycEJ",
    "pycharm": {
     "name": "#%% md\n"
    }
   }
  },
  {
   "cell_type": "markdown",
   "source": [
    "### Mean Pressure"
   ],
   "metadata": {
    "id": "09UKVGjg0WKz",
    "pycharm": {
     "name": "#%% md\n"
    }
   }
  },
  {
   "cell_type": "code",
   "source": [
    "sns.histplot(train_df['meanpressure'],)\n",
    "plt.show()"
   ],
   "metadata": {
    "colab": {
     "base_uri": "https://localhost:8080/",
     "height": 402
    },
    "id": "LsBICOOsylCB",
    "outputId": "3e6ff17c-75e5-4770-f086-00c098ba80f8",
    "pycharm": {
     "name": "#%%\n"
    }
   },
   "execution_count": null,
   "outputs": []
  },
  {
   "cell_type": "code",
   "source": [
    "# https://www.theweatherprediction.com/habyhints3/909/\n",
    "# https://barometricpressure.app/new-delhi\n",
    "f = (train_df['meanpressure'] < 1050) & (train_df['meanpressure'] > 950)\n",
    "sns.histplot(\n",
    "    train_df[f]['meanpressure'],\n",
    ")\n",
    "plt.show()"
   ],
   "metadata": {
    "colab": {
     "base_uri": "https://localhost:8080/",
     "height": 398
    },
    "id": "zt22XuWwzk5C",
    "outputId": "29e1c8d8-54b8-4834-c058-7efe500128a6",
    "pycharm": {
     "name": "#%%\n"
    }
   },
   "execution_count": null,
   "outputs": []
  },
  {
   "cell_type": "code",
   "source": [
    "train_df[train_df['meanpressure'] < 950]"
   ],
   "metadata": {
    "colab": {
     "base_uri": "https://localhost:8080/",
     "height": 266
    },
    "id": "68qDF3zSw0RM",
    "outputId": "36919103-4f0c-4cb0-b2da-a007e21b89cc",
    "pycharm": {
     "name": "#%%\n"
    }
   },
   "execution_count": null,
   "outputs": []
  },
  {
   "cell_type": "code",
   "source": [
    "train_df[train_df['meanpressure'] > 1050]"
   ],
   "metadata": {
    "colab": {
     "base_uri": "https://localhost:8080/",
     "height": 173
    },
    "id": "ALxyGlJizMDL",
    "outputId": "ba97df4d-063d-4581-aa46-4923558f04d8",
    "pycharm": {
     "name": "#%%\n"
    }
   },
   "execution_count": null,
   "outputs": []
  },
  {
   "cell_type": "code",
   "source": [
    "sns.lineplot(\n",
    "    x=train_df[f].index,\n",
    "    y=train_df[f]['meanpressure']\n",
    ")\n",
    "plt.show()"
   ],
   "metadata": {
    "colab": {
     "base_uri": "https://localhost:8080/",
     "height": 398
    },
    "id": "nP2lO6Ur1unk",
    "outputId": "1f9f20aa-e2c6-4450-d38e-57936dc8e0ad",
    "pycharm": {
     "name": "#%%\n"
    }
   },
   "execution_count": null,
   "outputs": []
  },
  {
   "cell_type": "code",
   "source": [
    "#TODO create function to impute pressure of day before for outliers"
   ],
   "metadata": {
    "id": "pSmjLHPp3agH",
    "pycharm": {
     "name": "#%%\n"
    }
   },
   "execution_count": null,
   "outputs": []
  },
  {
   "cell_type": "markdown",
   "source": [
    "### Wind Speed"
   ],
   "metadata": {
    "id": "2JZnfCdy1RDP",
    "pycharm": {
     "name": "#%% md\n"
    }
   }
  },
  {
   "cell_type": "code",
   "source": [
    "sns.histplot(train_df['wind_speed'],)\n",
    "plt.show()"
   ],
   "metadata": {
    "colab": {
     "base_uri": "https://localhost:8080/",
     "height": 398
    },
    "id": "_6dJBvQSzJZG",
    "outputId": "4632dee6-472c-4b7c-b53d-b79d256847a2",
    "pycharm": {
     "name": "#%%\n"
    }
   },
   "execution_count": null,
   "outputs": []
  },
  {
   "cell_type": "code",
   "source": [
    "def detect_outliers_iqr(data):\n",
    "  p25 = np.percentile(data, 25)\n",
    "  p75 = np.percentile(data, 75)\n",
    "  iqr = p75 - p25\n",
    "  lower_bound, upper_bound = (p25 - 1.5 * iqr, p75 + 1.5 * iqr)\n",
    "  f = (data < lower_bound) | (data > upper_bound)\n",
    "  return data[f], data[~f] "
   ],
   "metadata": {
    "id": "p6Y6uhA94E_e",
    "pycharm": {
     "name": "#%%\n"
    }
   },
   "execution_count": null,
   "outputs": []
  },
  {
   "cell_type": "code",
   "source": [
    "outliers, cleaned_series = detect_outliers_iqr(train_df['wind_speed'])\n",
    "train_df.loc[outliers.index]"
   ],
   "metadata": {
    "colab": {
     "base_uri": "https://localhost:8080/",
     "height": 1000
    },
    "id": "NmjluzQ43olK",
    "outputId": "72c5b6e4-54cb-4229-ceae-e46697714337",
    "pycharm": {
     "name": "#%%\n"
    }
   },
   "execution_count": null,
   "outputs": []
  },
  {
   "cell_type": "code",
   "source": [
    "sns.lineplot(\n",
    "    x=train_df.index,\n",
    "    y=train_df['wind_speed']\n",
    ")\n",
    "plt.show()"
   ],
   "metadata": {
    "colab": {
     "base_uri": "https://localhost:8080/",
     "height": 398
    },
    "id": "5TYACSVk27Wc",
    "outputId": "cd4dcff4-7195-44c1-f25f-a650fa70367d",
    "pycharm": {
     "name": "#%%\n"
    }
   },
   "execution_count": null,
   "outputs": []
  },
  {
   "cell_type": "code",
   "source": [
    "sns.lineplot(\n",
    "    x=train_df[train_df['wind_speed'] < 20].index,\n",
    "    y=train_df[train_df['wind_speed'] < 20]['wind_speed']\n",
    ")\n",
    "plt.show()"
   ],
   "metadata": {
    "colab": {
     "base_uri": "https://localhost:8080/",
     "height": 398
    },
    "id": "zS4HvsPv5AVQ",
    "outputId": "5b351bbc-d75a-4e8a-8835-9554c85a0443",
    "pycharm": {
     "name": "#%%\n"
    }
   },
   "execution_count": null,
   "outputs": []
  },
  {
   "cell_type": "code",
   "source": [
    "#TODO impute the wind_speed to the one from the day before"
   ],
   "metadata": {
    "id": "HT5LiJY-5hLm",
    "pycharm": {
     "name": "#%%\n"
    }
   },
   "execution_count": null,
   "outputs": []
  },
  {
   "cell_type": "markdown",
   "source": [
    "### Humidity"
   ],
   "metadata": {
    "id": "lfhYZEEs1ekQ",
    "pycharm": {
     "name": "#%% md\n"
    }
   }
  },
  {
   "cell_type": "code",
   "source": [
    "sns.histplot(train_df['humidity'],)\n",
    "plt.show()"
   ],
   "metadata": {
    "colab": {
     "base_uri": "https://localhost:8080/",
     "height": 398
    },
    "id": "hplwJ1TL1Vl2",
    "outputId": "61c84f6f-8b25-4ba2-8c4a-b2eee2b3620f",
    "pycharm": {
     "name": "#%%\n"
    }
   },
   "execution_count": null,
   "outputs": []
  },
  {
   "cell_type": "code",
   "source": [
    "sns.lineplot(\n",
    "    x=train_df.index,\n",
    "    y=train_df['humidity']\n",
    ")\n",
    "plt.show()"
   ],
   "metadata": {
    "colab": {
     "base_uri": "https://localhost:8080/",
     "height": 398
    },
    "id": "uSw2Fj061czP",
    "outputId": "02e2bea4-69f0-4b8f-a940-49cf48d996e7",
    "pycharm": {
     "name": "#%%\n"
    }
   },
   "execution_count": null,
   "outputs": []
  },
  {
   "cell_type": "markdown",
   "source": [
    "## Description of the target variable"
   ],
   "metadata": {
    "id": "gkcHG-xb76zB",
    "pycharm": {
     "name": "#%% md\n"
    }
   }
  },
  {
   "cell_type": "code",
   "source": [
    "sns.histplot(train_df['meantemp'],)\n",
    "plt.show()"
   ],
   "metadata": {
    "colab": {
     "base_uri": "https://localhost:8080/",
     "height": 398
    },
    "id": "ZLxko7716x3i",
    "outputId": "ca082fd6-4678-42ea-f6e3-a2e4168dee63",
    "pycharm": {
     "name": "#%%\n"
    }
   },
   "execution_count": null,
   "outputs": []
  },
  {
   "cell_type": "code",
   "source": [
    "sns.lineplot(\n",
    "    x=train_df.index,\n",
    "    y=train_df['humidity']\n",
    ")\n",
    "plt.show()"
   ],
   "metadata": {
    "colab": {
     "base_uri": "https://localhost:8080/",
     "height": 398
    },
    "id": "1ccEC3yC8MZn",
    "outputId": "78f0e35e-d603-4736-8693-c0686fe53381",
    "pycharm": {
     "name": "#%%\n"
    }
   },
   "execution_count": null,
   "outputs": []
  },
  {
   "cell_type": "code",
   "source": [
    "plot_acf(train_df['humidity'])"
   ],
   "metadata": {
    "colab": {
     "base_uri": "https://localhost:8080/",
     "height": 431
    },
    "id": "rvDp5SSX8Pp2",
    "outputId": "0792b879-3644-4c1f-beb1-16c448e97a8f",
    "pycharm": {
     "name": "#%%\n"
    }
   },
   "execution_count": null,
   "outputs": []
  },
  {
   "cell_type": "code",
   "source": [
    "plot_pacf(train_df['humidity'])"
   ],
   "metadata": {
    "colab": {
     "base_uri": "https://localhost:8080/",
     "height": 397
    },
    "id": "VFJ5gx7s8T4a",
    "outputId": "5f17377d-ad1d-4da6-f667-85e32bed2351",
    "pycharm": {
     "name": "#%%\n"
    }
   },
   "execution_count": null,
   "outputs": []
  },
  {
   "cell_type": "code",
   "source": [
    "result = seasonal_decompose(train_df['meantemp'])\n",
    "_ = result.plot()"
   ],
   "metadata": {
    "colab": {
     "base_uri": "https://localhost:8080/",
     "height": 441
    },
    "id": "BRHrZ0wq8vWO",
    "outputId": "19cb4e72-602e-4f4e-9bb5-aa3829b1e893",
    "pycharm": {
     "name": "#%%\n"
    }
   },
   "execution_count": null,
   "outputs": []
  },
  {
   "cell_type": "code",
   "source": [
    "adf_test = ADFTest()\n",
    "adf_test.should_diff(train_df['meantemp'])"
   ],
   "metadata": {
    "colab": {
     "base_uri": "https://localhost:8080/"
    },
    "id": "9hVeE4YJ8XaI",
    "outputId": "44fe3410-39d4-4b2f-eacf-6ea1ef92d9c8",
    "pycharm": {
     "name": "#%%\n"
    }
   },
   "execution_count": null,
   "outputs": []
  },
  {
   "cell_type": "code",
   "source": [
    "boxcox_transfomer = BoxCoxEndogTransformer()\n",
    "boxcox_series = boxcox_transfomer.fit_transform(train_df['meantemp'])"
   ],
   "metadata": {
    "id": "WSVkLnnYH4-d",
    "pycharm": {
     "name": "#%%\n"
    }
   },
   "execution_count": null,
   "outputs": []
  },
  {
   "cell_type": "code",
   "source": [
    "boxcox_series[0].shape"
   ],
   "metadata": {
    "colab": {
     "base_uri": "https://localhost:8080/"
    },
    "id": "M4vNFD3lIDdK",
    "outputId": "896f2e43-d87d-4905-ff8b-a47fc57ee4aa",
    "pycharm": {
     "name": "#%%\n"
    }
   },
   "execution_count": null,
   "outputs": []
  },
  {
   "cell_type": "code",
   "source": [
    "train_df"
   ],
   "metadata": {
    "colab": {
     "base_uri": "https://localhost:8080/",
     "height": 450
    },
    "id": "2zCoSkAPIM1s",
    "outputId": "58180759-9910-498f-f397-167b24895bec",
    "pycharm": {
     "name": "#%%\n"
    }
   },
   "execution_count": null,
   "outputs": []
  },
  {
   "cell_type": "markdown",
   "source": [
    "## Modelling"
   ],
   "metadata": {
    "id": "7eG4xFroBG09",
    "pycharm": {
     "name": "#%% md\n"
    }
   }
  },
  {
   "cell_type": "code",
   "source": [
    "val_periods = 180\n",
    "training_df = train_df.iloc[:train_df.shape[0]-val_periods, :]\n",
    "val_df = train_df.iloc[-val_periods:, :]"
   ],
   "metadata": {
    "id": "4wCrJBQqMTeU",
    "pycharm": {
     "name": "#%%\n"
    }
   },
   "execution_count": null,
   "outputs": []
  },
  {
   "cell_type": "code",
   "source": [
    "def evaluate_model(y_true, y_hat):\n",
    "  pred_smape = smape(y_true, y_hat)\n",
    "  pred_mae = mean_absolute_error(y_true, y_hat)\n",
    "  pred_mse = mean_squared_error(y_true, y_hat)\n",
    "  print(f\"SMAPE: {pred_smape}\\nMAE: {pred_mae}\\nMSE: {pred_mse}\")\n",
    "  return pred_smape, pred_mae, pred_mse"
   ],
   "metadata": {
    "id": "LDnuNkQjFbet",
    "pycharm": {
     "name": "#%%\n"
    }
   },
   "execution_count": null,
   "outputs": []
  },
  {
   "cell_type": "markdown",
   "source": [
    "### ARIMA"
   ],
   "metadata": {
    "id": "-3osOKnQ_ntx",
    "pycharm": {
     "name": "#%% md\n"
    }
   }
  },
  {
   "cell_type": "code",
   "source": [
    "arima_model = auto_arima(\n",
    "    training_df['meantemp'], start_d=1, max_d=12, max_q=12,\n",
    "    seasonal=True, m=12, max_D=12, max_Q=12, stationary=False,\n",
    "    n_jobs=-1, verbose=True\n",
    ")"
   ],
   "metadata": {
    "colab": {
     "base_uri": "https://localhost:8080/"
    },
    "id": "uA27jWhn_qfJ",
    "outputId": "5188ed24-b04d-4ddd-b0ce-93bd462d508a",
    "pycharm": {
     "name": "#%%\n"
    }
   },
   "execution_count": null,
   "outputs": []
  },
  {
   "cell_type": "code",
   "source": [
    "print(arima_model.summary())"
   ],
   "metadata": {
    "colab": {
     "base_uri": "https://localhost:8080/"
    },
    "id": "hPdoqBNmA__F",
    "outputId": "59c31f26-2e46-40d3-9c46-67bda79ac028",
    "pycharm": {
     "name": "#%%\n"
    }
   },
   "execution_count": null,
   "outputs": []
  },
  {
   "cell_type": "code",
   "source": [
    "arima_model.plot_diagnostics()\n",
    "plt.show()"
   ],
   "metadata": {
    "colab": {
     "base_uri": "https://localhost:8080/",
     "height": 414
    },
    "id": "4SfVdHhGJ1ds",
    "outputId": "6d42aa6b-b179-4132-d7cc-105b1bd2be6d",
    "pycharm": {
     "name": "#%%\n"
    }
   },
   "execution_count": null,
   "outputs": []
  },
  {
   "cell_type": "code",
   "source": [
    "arima_preds = arima_model.predict(val_periods)\n",
    "arima_smape, arima_mae, arima_mse = evaluate_model(val_df['meantemp'], arima_preds)"
   ],
   "metadata": {
    "id": "15kApa6xKium",
    "colab": {
     "base_uri": "https://localhost:8080/"
    },
    "outputId": "7f1bbd75-8049-4f6c-ab74-84f39f4c24a0",
    "pycharm": {
     "name": "#%%\n"
    }
   },
   "execution_count": null,
   "outputs": []
  },
  {
   "cell_type": "code",
   "source": [
    "plt.plot(val_df['meantemp'], color='blue', label='Real Values')\n",
    "plt.plot(val_df.index, arima_preds, color='red', label='Predicted Values')\n",
    "plt.legend()\n",
    "plt.show()"
   ],
   "metadata": {
    "colab": {
     "base_uri": "https://localhost:8080/",
     "height": 381
    },
    "id": "qJmuM6LxNWT_",
    "outputId": "0cd4abde-fbc5-4fe0-b49c-d63d32cd2dc0",
    "pycharm": {
     "name": "#%%\n"
    }
   },
   "execution_count": null,
   "outputs": []
  },
  {
   "cell_type": "markdown",
   "source": [
    "### Holt-Winters"
   ],
   "metadata": {
    "id": "c-vQI5ZABItL",
    "pycharm": {
     "name": "#%% md\n"
    }
   }
  },
  {
   "cell_type": "code",
   "source": [
    "hw_trend = 'additive'\n",
    "hw_seasonal = 'additive'\n",
    "\n",
    "hw_model = ExponentialSmoothing(\n",
    "    training_df['meantemp'], trend=hw_trend, seasonal=hw_seasonal,\n",
    "    seasonal_periods=12,\n",
    ")\n",
    "hw_model = hw_model.fit()\n",
    "hw_preds = hw_model.forecast(val_periods)"
   ],
   "metadata": {
    "id": "sm1zjxsKBKw0",
    "pycharm": {
     "name": "#%%\n"
    }
   },
   "execution_count": null,
   "outputs": []
  },
  {
   "cell_type": "code",
   "source": [
    "hw_smape, hw_mae, hw_mse = evaluate_model(val_df['meantemp'], hw_preds)"
   ],
   "metadata": {
    "colab": {
     "base_uri": "https://localhost:8080/"
    },
    "id": "lni8fc3QFEHD",
    "outputId": "7d7aab8c-0b8d-4222-f323-0f994958613c",
    "pycharm": {
     "name": "#%%\n"
    }
   },
   "execution_count": null,
   "outputs": []
  },
  {
   "cell_type": "code",
   "source": [
    "plt.plot(val_df['meantemp'], color='blue', label='Real Values')\n",
    "plt.plot(hw_preds, color='red', label='Predicted Values')\n",
    "plt.legend()\n",
    "plt.show()"
   ],
   "metadata": {
    "colab": {
     "base_uri": "https://localhost:8080/",
     "height": 381
    },
    "id": "DlJ2ojGCGKWp",
    "outputId": "e230a675-41aa-431b-e1d6-378b79aba690",
    "pycharm": {
     "name": "#%%\n"
    }
   },
   "execution_count": null,
   "outputs": []
  },
  {
   "cell_type": "markdown",
   "source": [
    "### Prophet"
   ],
   "metadata": {
    "id": "NpYmJ1UISMhr",
    "pycharm": {
     "name": "#%% md\n"
    }
   }
  },
  {
   "cell_type": "code",
   "source": [
    "m = prophet.Prophet()\n",
    "m.fit(training_df['meantemp'].reset_index().rename({'date': 'ds', 'meantemp': 'y'}, axis=1))"
   ],
   "metadata": {
    "colab": {
     "base_uri": "https://localhost:8080/"
    },
    "id": "o1V87dSrSK_x",
    "outputId": "6a8fc634-78fa-4492-f26a-97a5c866751a",
    "pycharm": {
     "name": "#%%\n"
    }
   },
   "execution_count": null,
   "outputs": []
  },
  {
   "cell_type": "code",
   "source": [
    "future = m.make_future_dataframe(periods=val_periods, include_history=True)\n",
    "prophet_preds = m.predict(future)['yhat']"
   ],
   "metadata": {
    "id": "ZdMaOH0RSXMQ",
    "pycharm": {
     "name": "#%%\n"
    }
   },
   "execution_count": null,
   "outputs": []
  },
  {
   "cell_type": "code",
   "source": [
    "prophet_smape, prophet_mae, prophet_mse = evaluate_model(val_df['meantemp'], prophet_preds.iloc[-val_periods:])"
   ],
   "metadata": {
    "colab": {
     "base_uri": "https://localhost:8080/"
    },
    "id": "IyMUWsw0TQAh",
    "outputId": "81e0cada-121a-4af0-d4e7-9c673bf7f4e8",
    "pycharm": {
     "name": "#%%\n"
    }
   },
   "execution_count": null,
   "outputs": []
  },
  {
   "cell_type": "code",
   "source": [
    "plt.plot(val_df['meantemp'], color='blue', label='Real Values')\n",
    "plt.plot(val_df.index, prophet_preds.iloc[-val_periods:], color='red', label='Predicted Values')\n",
    "plt.legend()\n",
    "plt.show()"
   ],
   "metadata": {
    "colab": {
     "base_uri": "https://localhost:8080/",
     "height": 381
    },
    "id": "H6X3Lw5qTPfT",
    "outputId": "f41ab9d6-d96f-4fa1-d811-e8a35d048478",
    "pycharm": {
     "name": "#%%\n"
    }
   },
   "execution_count": null,
   "outputs": []
  },
  {
   "cell_type": "code",
   "source": [
    "plt.plot(training_df['meantemp'], color='green', label='Train Values')\n",
    "plt.plot(val_df['meantemp'], color='blue', label='Validation Values')\n",
    "plt.plot(pd.date_range(start=training_df.index.min(), end=val_df.index.max()), prophet_preds, color='red', label='Predicted Values')\n",
    "plt.legend()\n",
    "plt.show()"
   ],
   "metadata": {
    "colab": {
     "base_uri": "https://localhost:8080/",
     "height": 382
    },
    "id": "b3Mt6biDUT-Y",
    "outputId": "0d2b20bf-1998-42d1-f7e0-327594d5020d",
    "pycharm": {
     "name": "#%%\n"
    }
   },
   "execution_count": null,
   "outputs": []
  },
  {
   "cell_type": "markdown",
   "source": [
    "## Linear Regression"
   ],
   "metadata": {
    "id": "-bWehyEoCIJi",
    "pycharm": {
     "name": "#%% md\n"
    }
   }
  },
  {
   "cell_type": "code",
   "source": [
    "def extract_date_features(original_df):\n",
    "  df = original_df.copy()\n",
    "  df['year'] = df.index.year\n",
    "  df['yearday'] = df.index.day_of_year\n",
    "  df['yearday_sin'] = np.sin(2 * np.pi * df['yearday']/df['yearday'].max())\n",
    "  df['yearday_cos'] = np.cos(2 * np.pi * df['yearday']/df['yearday'].max())\n",
    "  df['month'] = df.index.month\n",
    "  df['monthday'] = df.index.day\n",
    "  df['monthday_sin'] = np.sin(2 * np.pi * df['monthday']/df['monthday'].max())\n",
    "  df['monthday_cos'] = np.cos(2 * np.pi * df['monthday']/df['monthday'].max())\n",
    "  df['weekday'] = df.index.weekday\n",
    "  df['weekday_sin'] = np.sin(2 * np.pi * df['weekday']/df['weekday'].max())\n",
    "  df['weekday_cos'] = np.cos(2 * np.pi * df['weekday']/df['weekday'].max())\n",
    "  return df"
   ],
   "metadata": {
    "id": "h_wpC8MiCKDU",
    "pycharm": {
     "name": "#%%\n"
    }
   },
   "execution_count": null,
   "outputs": []
  },
  {
   "cell_type": "code",
   "source": [
    "training_df_featurized = extract_date_features(training_df)"
   ],
   "metadata": {
    "id": "hvqpZcMiCOl1",
    "pycharm": {
     "name": "#%%\n"
    }
   },
   "execution_count": null,
   "outputs": []
  },
  {
   "cell_type": "code",
   "source": [
    "val_df_featurized = extract_date_features(val_df)"
   ],
   "metadata": {
    "id": "o5FZk42uNuNa",
    "pycharm": {
     "name": "#%%\n"
    }
   },
   "execution_count": null,
   "outputs": []
  },
  {
   "cell_type": "code",
   "source": [
    "X = training_df_featurized[[\n",
    "  'yearday_sin', 'yearday_cos', 'monthday_sin', 'monthday_cos', 'weekday_sin', 'weekday_cos',\n",
    "]]\n",
    "y = training_df_featurized.meantemp"
   ],
   "metadata": {
    "id": "ed0TetGACRdY",
    "pycharm": {
     "name": "#%%\n"
    }
   },
   "execution_count": null,
   "outputs": []
  },
  {
   "cell_type": "code",
   "source": [
    "linear_model = LinearRegression()\n",
    "linear_model.fit(X, y)\n",
    "linear_preds = linear_model.predict(\n",
    "  val_df_featurized[[\n",
    "  'yearday_sin', 'yearday_cos', 'monthday_sin', 'monthday_cos', 'weekday_sin', 'weekday_cos',\n",
    "]]\n",
    ")"
   ],
   "metadata": {
    "id": "kaR-d-0EMMrz",
    "pycharm": {
     "name": "#%%\n"
    }
   },
   "execution_count": null,
   "outputs": []
  },
  {
   "cell_type": "code",
   "source": [
    "linear_smape, linear_mae, linear_mse = evaluate_model(val_df['meantemp'], linear_preds)"
   ],
   "metadata": {
    "colab": {
     "base_uri": "https://localhost:8080/"
    },
    "id": "Rm2IEDYqNngH",
    "outputId": "4b00ec49-beed-483c-bf38-76a4064b68be",
    "pycharm": {
     "name": "#%%\n"
    }
   },
   "execution_count": null,
   "outputs": []
  },
  {
   "cell_type": "code",
   "source": [
    "plt.plot(val_df['meantemp'], color='blue', label='Real Values')\n",
    "plt.plot(val_df.index, linear_preds, color='red', label='Predicted Values')\n",
    "plt.legend()\n",
    "plt.show()"
   ],
   "metadata": {
    "colab": {
     "base_uri": "https://localhost:8080/",
     "height": 381
    },
    "id": "3VzvWBiGOElN",
    "outputId": "a9924e94-c4b5-42cb-d3e1-a26e6e8abad7",
    "pycharm": {
     "name": "#%%\n"
    }
   },
   "execution_count": null,
   "outputs": []
  },
  {
   "cell_type": "markdown",
   "source": [
    "### LightGBM"
   ],
   "metadata": {
    "id": "WS-OuEfOCRtq",
    "pycharm": {
     "name": "#%% md\n"
    }
   }
  },
  {
   "cell_type": "code",
   "source": [
    "light_model = lightgbm.LGBMRegressor()\n",
    "light_model.fit(X, y)\n",
    "light_preds = light_model.predict(\n",
    "  val_df_featurized[[\n",
    "  'yearday_sin', 'yearday_cos', 'monthday_sin', 'monthday_cos', 'weekday_sin', 'weekday_cos',\n",
    "]]\n",
    ")"
   ],
   "metadata": {
    "id": "KoebfLsRCTEI",
    "pycharm": {
     "name": "#%%\n"
    }
   },
   "execution_count": null,
   "outputs": []
  },
  {
   "cell_type": "code",
   "source": [
    "light_smape, light_mae, light_mse = evaluate_model(val_df['meantemp'], light_preds)"
   ],
   "metadata": {
    "id": "4yTT7kvQCUS0",
    "colab": {
     "base_uri": "https://localhost:8080/"
    },
    "outputId": "04f70f3a-5cf4-4cb0-beaf-ab4eca484ab5",
    "pycharm": {
     "name": "#%%\n"
    }
   },
   "execution_count": null,
   "outputs": []
  },
  {
   "cell_type": "code",
   "source": [
    "plt.plot(val_df['meantemp'], color='blue', label='Real Values')\n",
    "plt.plot(val_df.index, light_preds, color='red', label='Predicted Values')\n",
    "plt.legend()\n",
    "plt.show()"
   ],
   "metadata": {
    "colab": {
     "base_uri": "https://localhost:8080/",
     "height": 381
    },
    "id": "G0uGNBnNPyB8",
    "outputId": "d0b091eb-b80a-43ea-895b-632b0c8a7dd2",
    "pycharm": {
     "name": "#%%\n"
    }
   },
   "execution_count": null,
   "outputs": []
  },
  {
   "cell_type": "markdown",
   "source": [
    "### Univariate Recurrent Neural Network"
   ],
   "metadata": {
    "id": "BUh7IdS0CU_Q",
    "pycharm": {
     "name": "#%% md\n"
    }
   }
  },
  {
   "cell_type": "code",
   "source": [
    "#TODO: Scale input and/or trend"
   ],
   "metadata": {
    "id": "mUAvP-F7f0QU",
    "pycharm": {
     "name": "#%%\n"
    }
   },
   "execution_count": null,
   "outputs": []
  },
  {
   "cell_type": "code",
   "source": [
    "def windowed_dataset(series, window_size, batch_size, shuffle_buffer):  \n",
    "    dataset = tf.data.Dataset.from_tensor_slices(series)\n",
    "    dataset = dataset.window(window_size + 1, shift=1, drop_remainder=True)\n",
    "    \n",
    "    dataset = dataset.flat_map(lambda window: window.batch(window_size + 1))\n",
    "    dataset = dataset.map(lambda window: (window[:-1], window[-1]))\n",
    "    dataset = dataset.shuffle(shuffle_buffer)\n",
    "    \n",
    "    dataset = dataset.batch(batch_size).prefetch(1)\n",
    "    \n",
    "    return dataset"
   ],
   "metadata": {
    "id": "Ir1R33HXCa06",
    "pycharm": {
     "name": "#%%\n"
    }
   },
   "execution_count": null,
   "outputs": []
  },
  {
   "cell_type": "code",
   "source": [
    "def plot_lr_curves(model, optimizer, criterion, start_lr=1e-6, epochs=50):\n",
    "    lr_schedule = tf.keras.callbacks.LearningRateScheduler(\n",
    "        lambda epoch: start_lr * 10**(epoch / 10))\n",
    "    model.compile(loss=criterion, optimizer=optimizer)\n",
    "    history = model.fit(train_set, epochs=epochs, callbacks=[lr_schedule])\n",
    "\n",
    "    lrs = start_lr * (10 ** (np.arange(epochs) / 10))\n",
    "    plt.grid(True)\n",
    "    plt.semilogx(lrs, history.history[\"loss\"])\n",
    "    plt.tick_params('both', length=10, width=1, which='both')\n",
    "    plt.show()"
   ],
   "metadata": {
    "id": "r7y0mu5lcIc3",
    "pycharm": {
     "name": "#%%\n"
    }
   },
   "execution_count": null,
   "outputs": []
  },
  {
   "cell_type": "code",
   "source": [
    "def model_forecast(model, series, window_size, batch_size):\n",
    "    dataset = tf.data.Dataset.from_tensor_slices(series)\n",
    "    dataset = dataset.window(window_size, shift=1, drop_remainder=True)\n",
    "\n",
    "    dataset = dataset.flat_map(lambda w: w.batch(window_size))    \n",
    "    dataset = dataset.batch(batch_size).prefetch(1)\n",
    "    \n",
    "    forecast = model.predict(dataset)\n",
    "    \n",
    "    return forecast"
   ],
   "metadata": {
    "id": "6Xjk1eHjY-ff",
    "pycharm": {
     "name": "#%%\n"
    }
   },
   "execution_count": null,
   "outputs": []
  },
  {
   "cell_type": "code",
   "source": [
    "window_size = 30\n",
    "batch_size = 64\n",
    "shuffle_buffer_size = 1000\n",
    "\n",
    "hidden_dim_rnn = 64\n",
    "hidden_dim_fc = 32\n",
    "dropout = 0.4\n",
    "\n",
    "criterion = keras.losses.Huber()\n",
    "optimizer = keras.optimizers.Adam(3e-4)\n",
    "epochs = 100"
   ],
   "metadata": {
    "id": "4km2bp_8CaFO",
    "pycharm": {
     "name": "#%%\n"
    }
   },
   "execution_count": null,
   "outputs": []
  },
  {
   "cell_type": "code",
   "source": [
    "train_set = windowed_dataset(training_df['meantemp'], window_size, batch_size, shuffle_buffer_size)\n",
    "val_set = windowed_dataset(val_df['meantemp'], window_size, batch_size, shuffle_buffer_size)"
   ],
   "metadata": {
    "id": "Evf0Ly7LCatj",
    "pycharm": {
     "name": "#%%\n"
    }
   },
   "execution_count": null,
   "outputs": []
  },
  {
   "cell_type": "code",
   "source": [
    "model = tf.keras.models.Sequential([\n",
    "  keras.layers.Conv1D(filters=64, kernel_size=3,\n",
    "                      strides=1,\n",
    "                      activation=tf.nn.relu,\n",
    "                      padding='causal',\n",
    "                      input_shape=[window_size, 1]),\n",
    "  keras.layers.Dropout(dropout),\n",
    "  keras.layers.LSTM(hidden_dim_rnn, return_sequences=True, dropout=dropout, recurrent_dropout=dropout),\n",
    "  keras.layers.LSTM(hidden_dim_rnn, dropout=dropout, recurrent_dropout=dropout),\n",
    "  keras.layers.Dense(hidden_dim_fc, activation=tf.nn.relu),\n",
    "  keras.layers.Dropout(dropout),\n",
    "  keras.layers.Dense(hidden_dim_fc, activation=tf.nn.relu),\n",
    "  keras.layers.Dropout(dropout),\n",
    "  keras.layers.Dense(1),\n",
    "])\n",
    "\n",
    "init_weights = model.get_weights()\n",
    "model.summary()"
   ],
   "metadata": {
    "colab": {
     "base_uri": "https://localhost:8080/"
    },
    "id": "Pi6V3V2mWWMm",
    "outputId": "663a00ac-a89a-47ce-dc74-b5a4e58fa70e",
    "pycharm": {
     "name": "#%%\n"
    }
   },
   "execution_count": null,
   "outputs": []
  },
  {
   "cell_type": "code",
   "source": [
    "plot_lr_curves(model, keras.optimizers.Adam(), criterion)"
   ],
   "metadata": {
    "colab": {
     "base_uri": "https://localhost:8080/",
     "height": 324
    },
    "id": "dVF9Uaz7bu9w",
    "outputId": "b534c271-3423-4717-bdcb-460a697e5cdf",
    "pycharm": {
     "name": "#%%\n"
    }
   },
   "execution_count": null,
   "outputs": []
  },
  {
   "cell_type": "code",
   "source": [
    "model.compile(loss=criterion, optimizer=optimizer, metrics=['mae', 'mse'])"
   ],
   "metadata": {
    "id": "DrOO5Yg0WsS3",
    "pycharm": {
     "name": "#%%\n"
    }
   },
   "execution_count": null,
   "outputs": []
  },
  {
   "cell_type": "code",
   "source": [
    "model.set_weights(init_weights)\n",
    "early_stopping = keras.callbacks.EarlyStopping(patience=10, restore_best_weights=True)\n",
    "reduce_lr_on_plateau = keras.callbacks.ReduceLROnPlateau(patience=5,)\n",
    "history = model.fit(train_set, validation_data=val_set, epochs=epochs, callbacks=[early_stopping, reduce_lr_on_plateau])"
   ],
   "metadata": {
    "colab": {
     "base_uri": "https://localhost:8080/"
    },
    "id": "5XMcxtwqXWtH",
    "outputId": "d7948d75-77eb-4fde-8bfa-f573b84fbdcf",
    "pycharm": {
     "name": "#%%\n"
    }
   },
   "execution_count": null,
   "outputs": []
  },
  {
   "cell_type": "code",
   "source": [
    "plt.plot(history.history['loss'], color='red', label='Training Loss')\n",
    "plt.plot(history.history['val_loss'], color='blue', label='Validation Loss')\n",
    "plt.legend()\n",
    "plt.show()"
   ],
   "metadata": {
    "id": "cFyf_odUXnPJ",
    "pycharm": {
     "name": "#%%\n"
    }
   },
   "execution_count": null,
   "outputs": []
  },
  {
   "cell_type": "code",
   "source": [
    "plt.plot(history.history['mae'], color='red', label='Training MAE')\n",
    "plt.plot(history.history['val_mae'], color='blue', label='Validation MAE')\n",
    "plt.legend()\n",
    "plt.show()"
   ],
   "metadata": {
    "id": "suLtg0CnYUFC",
    "pycharm": {
     "name": "#%%\n"
    }
   },
   "execution_count": null,
   "outputs": []
  },
  {
   "cell_type": "code",
   "source": [
    "forecast_series = train_df.iloc[val_periods-window_size:-1, :]['meantemp']\n",
    "rnn_preds = model_forecast(model, forecast_series, window_size, batch_size).squeeze()"
   ],
   "metadata": {
    "id": "FFVC19ZlYzIp",
    "pycharm": {
     "name": "#%%\n"
    }
   },
   "execution_count": null,
   "outputs": []
  },
  {
   "cell_type": "code",
   "source": [
    "rnn_smape, rnn_mae, rnn_mse = evaluate_model(val_df['meantemp'], rnn_preds[-val_periods:])"
   ],
   "metadata": {
    "id": "9t7EcvibZ-a5",
    "pycharm": {
     "name": "#%%\n"
    }
   },
   "execution_count": null,
   "outputs": []
  },
  {
   "cell_type": "code",
   "source": [
    "plt.plot(val_df['meantemp'], color='blue', label='Real Values')\n",
    "plt.plot(val_df.index, rnn_preds[-val_periods:], color='red', label='Predicted Values')\n",
    "plt.legend()\n",
    "plt.show()"
   ],
   "metadata": {
    "id": "46B9pSzPeUOx",
    "pycharm": {
     "name": "#%%\n"
    }
   },
   "execution_count": null,
   "outputs": []
  }
 ]
}